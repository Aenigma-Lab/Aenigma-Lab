{
  "nbformat": 4,
  "nbformat_minor": 0,
  "metadata": {
    "colab": {
      "provenance": [],
      "toc_visible": true,
      "authorship_tag": "ABX9TyN4Dtvf2l/8rEYysBHFW2lR",
      "include_colab_link": true
    },
    "kernelspec": {
      "name": "python3",
      "display_name": "Python 3"
    },
    "language_info": {
      "name": "python"
    }
  },
  "cells": [
    {
      "cell_type": "markdown",
      "metadata": {
        "id": "view-in-github",
        "colab_type": "text"
      },
      "source": [
        "<a href=\"https://colab.research.google.com/github/Aenigma-Lab/Aenigma-Lab/blob/main/python/String_Operations.ipynb\" target=\"_parent\"><img src=\"https://colab.research.google.com/assets/colab-badge.svg\" alt=\"Open In Colab\"/></a>"
      ]
    },
    {
      "cell_type": "markdown",
      "source": [
        "## String Operation"
      ],
      "metadata": {
        "id": "81eXSKyWyPdJ"
      }
    },
    {
      "cell_type": "code",
      "execution_count": null,
      "metadata": {
        "colab": {
          "base_uri": "https://localhost:8080/",
          "height": 35
        },
        "id": "RRj2CthZs_iT",
        "outputId": "c5f97826-9daa-4cfe-cc7d-941ce66ae4c0"
      },
      "outputs": [
        {
          "output_type": "execute_result",
          "data": {
            "text/plain": [
              "'s'"
            ],
            "application/vnd.google.colaboratory.intrinsic+json": {
              "type": "string"
            }
          },
          "metadata": {},
          "execution_count": 6
        }
      ],
      "source": [
        "# String: 'shubham, '123' , '1.012311', 'True', '1.04', \"alfa\"\n",
        "# String slicing(means cutting a part of string)\n",
        "x = 'shubham'\n",
        "x[0]\n"
      ]
    },
    {
      "cell_type": "code",
      "source": [
        "# positive indexing\n",
        "x[1:4]"
      ],
      "metadata": {
        "colab": {
          "base_uri": "https://localhost:8080/",
          "height": 35
        },
        "id": "-4urgnoXtgi4",
        "outputId": "53ffa9d8-cf9c-46a2-c3ba-08cd9320ff08"
      },
      "execution_count": null,
      "outputs": [
        {
          "output_type": "execute_result",
          "data": {
            "text/plain": [
              "'hub'"
            ],
            "application/vnd.google.colaboratory.intrinsic+json": {
              "type": "string"
            }
          },
          "metadata": {},
          "execution_count": 5
        }
      ]
    },
    {
      "cell_type": "code",
      "source": [
        "# negative indexing\n",
        "x = \"shubham\"\n",
        "x[-3:-1]"
      ],
      "metadata": {
        "colab": {
          "base_uri": "https://localhost:8080/",
          "height": 35
        },
        "id": "Hh3-YgSJt9Na",
        "outputId": "2acdfe07-4e7a-4307-c3d3-1c086fe24ee1"
      },
      "execution_count": null,
      "outputs": [
        {
          "output_type": "execute_result",
          "data": {
            "text/plain": [
              "'ha'"
            ],
            "application/vnd.google.colaboratory.intrinsic+json": {
              "type": "string"
            }
          },
          "metadata": {},
          "execution_count": 7
        }
      ]
    },
    {
      "cell_type": "code",
      "source": [
        "# find length of string\n",
        "len(x)"
      ],
      "metadata": {
        "colab": {
          "base_uri": "https://localhost:8080/"
        },
        "id": "CaGsxxBnuNTk",
        "outputId": "8a823d90-12c9-4f55-dec1-7b17b1be273d"
      },
      "execution_count": null,
      "outputs": [
        {
          "output_type": "execute_result",
          "data": {
            "text/plain": [
              "7"
            ]
          },
          "metadata": {},
          "execution_count": 8
        }
      ]
    },
    {
      "cell_type": "code",
      "source": [
        "# find last letter\n",
        "x[-1]"
      ],
      "metadata": {
        "colab": {
          "base_uri": "https://localhost:8080/",
          "height": 35
        },
        "id": "WRn2nGgCv3-K",
        "outputId": "936dc516-102b-4723-bd3a-68ce0e4a85ab"
      },
      "execution_count": null,
      "outputs": [
        {
          "output_type": "execute_result",
          "data": {
            "text/plain": [
              "'m'"
            ],
            "application/vnd.google.colaboratory.intrinsic+json": {
              "type": "string"
            }
          },
          "metadata": {},
          "execution_count": 9
        }
      ]
    },
    {
      "cell_type": "code",
      "source": [
        "# from the beginning till 4 in string\n",
        "x[:4]"
      ],
      "metadata": {
        "colab": {
          "base_uri": "https://localhost:8080/",
          "height": 35
        },
        "id": "o10SB38CwDfb",
        "outputId": "1158e89e-bfcf-4bd3-e1d0-c5b5eed3c4c9"
      },
      "execution_count": null,
      "outputs": [
        {
          "output_type": "execute_result",
          "data": {
            "text/plain": [
              "'shub'"
            ],
            "application/vnd.google.colaboratory.intrinsic+json": {
              "type": "string"
            }
          },
          "metadata": {},
          "execution_count": 11
        }
      ]
    },
    {
      "cell_type": "code",
      "source": [
        "# start with 2 till end of string\n",
        "x[2:]"
      ],
      "metadata": {
        "colab": {
          "base_uri": "https://localhost:8080/",
          "height": 35
        },
        "id": "B1Vw4dIwwRf0",
        "outputId": "f630ed99-5f2a-4ee7-affc-485dfd3a79b5"
      },
      "execution_count": null,
      "outputs": [
        {
          "output_type": "execute_result",
          "data": {
            "text/plain": [
              "'ubham'"
            ],
            "application/vnd.google.colaboratory.intrinsic+json": {
              "type": "string"
            }
          },
          "metadata": {},
          "execution_count": 13
        }
      ]
    },
    {
      "cell_type": "code",
      "source": [
        "# jump string 2 step from beginning\n",
        "y = 'shubham_mishra'\n",
        "y[::2]   # [start:stop:steps]"
      ],
      "metadata": {
        "colab": {
          "base_uri": "https://localhost:8080/",
          "height": 35
        },
        "id": "HFAiqzYNwfF_",
        "outputId": "44618a09-5dc1-4c6a-d6a5-003068b89eec"
      },
      "execution_count": null,
      "outputs": [
        {
          "output_type": "execute_result",
          "data": {
            "text/plain": [
              "'suhmmsr'"
            ],
            "application/vnd.google.colaboratory.intrinsic+json": {
              "type": "string"
            }
          },
          "metadata": {},
          "execution_count": 18
        }
      ]
    },
    {
      "cell_type": "code",
      "source": [
        "# reverse string\n",
        "y[::-1]"
      ],
      "metadata": {
        "colab": {
          "base_uri": "https://localhost:8080/",
          "height": 35
        },
        "id": "XrR2TH6ExJWb",
        "outputId": "fd3bbc01-b877-4973-929e-1c00edeb2839"
      },
      "execution_count": null,
      "outputs": [
        {
          "output_type": "execute_result",
          "data": {
            "text/plain": [
              "'arhsim_mahbuhs'"
            ],
            "application/vnd.google.colaboratory.intrinsic+json": {
              "type": "string"
            }
          },
          "metadata": {},
          "execution_count": 19
        }
      ]
    },
    {
      "cell_type": "markdown",
      "source": [
        "## Methods"
      ],
      "metadata": {
        "id": "CC6cJvAUyB3t"
      }
    },
    {
      "cell_type": "code",
      "source": [
        "# upper case string\n",
        "z = 'shubham'\n",
        "i = z.upper()\n",
        "print(i)"
      ],
      "metadata": {
        "colab": {
          "base_uri": "https://localhost:8080/"
        },
        "id": "MK0Y6SffylZf",
        "outputId": "cecb1cb3-8a4e-4a00-864a-9c7c37d0ad59"
      },
      "execution_count": null,
      "outputs": [
        {
          "output_type": "stream",
          "name": "stdout",
          "text": [
            "SHUBHAM\n"
          ]
        }
      ]
    },
    {
      "cell_type": "code",
      "source": [
        "# find type of object\n",
        "type(z)"
      ],
      "metadata": {
        "colab": {
          "base_uri": "https://localhost:8080/"
        },
        "id": "4o1sIqUKzR8t",
        "outputId": "b143f82a-ece2-4597-f80b-2b9826e8af65"
      },
      "execution_count": null,
      "outputs": [
        {
          "output_type": "execute_result",
          "data": {
            "text/plain": [
              "str"
            ]
          },
          "metadata": {},
          "execution_count": 29
        }
      ]
    },
    {
      "cell_type": "code",
      "source": [
        "# lower case string\n",
        "z = 'SHUBHAM'\n",
        "i = z.lower()\n",
        "print(i)"
      ],
      "metadata": {
        "colab": {
          "base_uri": "https://localhost:8080/"
        },
        "id": "FAorx6zlytII",
        "outputId": "3a0f4757-5db1-4d19-978f-c682e4e4660f"
      },
      "execution_count": null,
      "outputs": [
        {
          "output_type": "stream",
          "name": "stdout",
          "text": [
            "shubham\n"
          ]
        }
      ]
    },
    {
      "cell_type": "code",
      "source": [
        "# stript(): remove space from front and back of the word.\n",
        "a = '  shubham mishra   '\n",
        "b = a.strip()\n",
        "print(b)"
      ],
      "metadata": {
        "colab": {
          "base_uri": "https://localhost:8080/"
        },
        "id": "IGMtnfcFzcEy",
        "outputId": "2abe8bf1-891f-41bc-a9d7-63fa982ddfb4"
      },
      "execution_count": null,
      "outputs": [
        {
          "output_type": "stream",
          "name": "stdout",
          "text": [
            "shubham mishra\n"
          ]
        }
      ]
    },
    {
      "cell_type": "code",
      "source": [
        "# replace : replace a letter with another letter.  ( what do you want to replace with what do you want to replace)\n",
        "b = 'hello'\n",
        "b.replace('h', 'k')"
      ],
      "metadata": {
        "colab": {
          "base_uri": "https://localhost:8080/",
          "height": 35
        },
        "id": "_bQQBOMe0DS2",
        "outputId": "21c5bd57-da5a-42d5-f2d6-98196abec60c"
      },
      "execution_count": null,
      "outputs": [
        {
          "output_type": "execute_result",
          "data": {
            "text/plain": [
              "'kello'"
            ],
            "application/vnd.google.colaboratory.intrinsic+json": {
              "type": "string"
            }
          },
          "metadata": {},
          "execution_count": 34
        }
      ]
    },
    {
      "cell_type": "code",
      "source": [
        "# concatenation: joning 2 strings\n",
        "x = 'hello' + \" \" + \"world\"\n",
        "print(x)"
      ],
      "metadata": {
        "colab": {
          "base_uri": "https://localhost:8080/"
        },
        "id": "EaWa04dS0nyw",
        "outputId": "218a15cf-523c-4e1e-842b-a8b27ddae13b"
      },
      "execution_count": null,
      "outputs": [
        {
          "output_type": "stream",
          "name": "stdout",
          "text": [
            "hello world\n"
          ]
        }
      ]
    },
    {
      "cell_type": "code",
      "source": [
        "# capitalize : Make capital first letter\n",
        "x = 'shubham'\n",
        "x.capitalize()"
      ],
      "metadata": {
        "colab": {
          "base_uri": "https://localhost:8080/",
          "height": 35
        },
        "id": "CuSXSgAs08ex",
        "outputId": "45ec0bf4-0abf-4360-c022-385340f66ea3"
      },
      "execution_count": null,
      "outputs": [
        {
          "output_type": "execute_result",
          "data": {
            "text/plain": [
              "'Shubham'"
            ],
            "application/vnd.google.colaboratory.intrinsic+json": {
              "type": "string"
            }
          },
          "metadata": {},
          "execution_count": 38
        }
      ]
    },
    {
      "cell_type": "code",
      "source": [
        "# endwith() : check string is end with your given leter it will write true or false\n",
        "x = 'shubham'\n",
        "x.endswith('m')"
      ],
      "metadata": {
        "colab": {
          "base_uri": "https://localhost:8080/"
        },
        "id": "k0ggqG7Z1Uu9",
        "outputId": "41cf8d6b-d2c4-42dd-d4ac-306eac2e629a"
      },
      "execution_count": null,
      "outputs": [
        {
          "output_type": "execute_result",
          "data": {
            "text/plain": [
              "True"
            ]
          },
          "metadata": {},
          "execution_count": 39
        }
      ]
    },
    {
      "cell_type": "code",
      "source": [
        "# start with : check if a string start with\n",
        "x = 'alfa'\n",
        "x.startswith('l')"
      ],
      "metadata": {
        "colab": {
          "base_uri": "https://localhost:8080/"
        },
        "id": "hjtWaIGX1wnR",
        "outputId": "3590eb10-7277-46bc-f995-77b7f716f20b"
      },
      "execution_count": null,
      "outputs": [
        {
          "output_type": "execute_result",
          "data": {
            "text/plain": [
              "False"
            ]
          },
          "metadata": {},
          "execution_count": 42
        }
      ]
    },
    {
      "cell_type": "code",
      "source": [
        "x.startswith('a')"
      ],
      "metadata": {
        "colab": {
          "base_uri": "https://localhost:8080/"
        },
        "id": "LdrwPDBh111Y",
        "outputId": "63dc5194-0927-4c7b-a005-b9794c09c84d"
      },
      "execution_count": null,
      "outputs": [
        {
          "output_type": "execute_result",
          "data": {
            "text/plain": [
              "True"
            ]
          },
          "metadata": {},
          "execution_count": 43
        }
      ]
    },
    {
      "cell_type": "code",
      "source": [
        "# find : find the index location of the letter in given word.\n",
        "x = \"I live in Mumbai\"\n",
        "x.find('in')"
      ],
      "metadata": {
        "colab": {
          "base_uri": "https://localhost:8080/"
        },
        "id": "zCqpPDT62AaC",
        "outputId": "04963bdd-ccc9-4672-f2e4-6eb3f4023749"
      },
      "execution_count": null,
      "outputs": [
        {
          "output_type": "execute_result",
          "data": {
            "text/plain": [
              "7"
            ]
          },
          "metadata": {},
          "execution_count": 44
        }
      ]
    },
    {
      "cell_type": "code",
      "source": [
        "# isalpha() : check if all the characters in the strin is alphabets\n",
        "x = 'shubham'\n",
        "x.isalpha()"
      ],
      "metadata": {
        "colab": {
          "base_uri": "https://localhost:8080/"
        },
        "id": "J8RbqtCM2T0U",
        "outputId": "dc3ae928-8671-4530-86cc-85049add4b41"
      },
      "execution_count": null,
      "outputs": [
        {
          "output_type": "execute_result",
          "data": {
            "text/plain": [
              "True"
            ]
          },
          "metadata": {},
          "execution_count": 47
        }
      ]
    },
    {
      "cell_type": "code",
      "source": [
        "x = 'shubham.mishra'\n",
        "x.isalpha()"
      ],
      "metadata": {
        "id": "TtnhMExx3qRL",
        "outputId": "1c899b07-4bf4-46d0-a637-2a8d0972b9aa",
        "colab": {
          "base_uri": "https://localhost:8080/"
        }
      },
      "execution_count": null,
      "outputs": [
        {
          "output_type": "execute_result",
          "data": {
            "text/plain": [
              "False"
            ]
          },
          "metadata": {},
          "execution_count": 55
        }
      ]
    },
    {
      "cell_type": "code",
      "source": [
        "x = 'shubham1'\n",
        "x.isalpha()"
      ],
      "metadata": {
        "colab": {
          "base_uri": "https://localhost:8080/"
        },
        "id": "Ip3XpsXX2qMv",
        "outputId": "9c614481-7421-4100-dc70-523069ea2442"
      },
      "execution_count": null,
      "outputs": [
        {
          "output_type": "execute_result",
          "data": {
            "text/plain": [
              "False"
            ]
          },
          "metadata": {},
          "execution_count": 48
        }
      ]
    },
    {
      "cell_type": "code",
      "source": [
        "# isnumeric() : return true if all chracters are numberic\n",
        "x = '1001'\n",
        "x.isnumeric()"
      ],
      "metadata": {
        "colab": {
          "base_uri": "https://localhost:8080/"
        },
        "id": "1a9JzhQk22eJ",
        "outputId": "753dc679-b8b2-4acb-8b7c-f179fa74263b"
      },
      "execution_count": null,
      "outputs": [
        {
          "output_type": "execute_result",
          "data": {
            "text/plain": [
              "True"
            ]
          },
          "metadata": {},
          "execution_count": 49
        }
      ]
    },
    {
      "cell_type": "code",
      "source": [
        "# isdecimal : it returns true if all charcters in the string are decimals\n",
        "\n",
        "x = '123456p'\n",
        "x.isdecimal()"
      ],
      "metadata": {
        "colab": {
          "base_uri": "https://localhost:8080/"
        },
        "id": "aRW2yTek3CAC",
        "outputId": "74d2304c-9e04-4059-8ceb-013563a2179b"
      },
      "execution_count": null,
      "outputs": [
        {
          "output_type": "execute_result",
          "data": {
            "text/plain": [
              "False"
            ]
          },
          "metadata": {},
          "execution_count": 52
        }
      ]
    },
    {
      "cell_type": "code",
      "source": [
        "x = '12345'\n",
        "x.isdecimal()"
      ],
      "metadata": {
        "colab": {
          "base_uri": "https://localhost:8080/"
        },
        "id": "DAlo5gkM3a3m",
        "outputId": "0a0a903e-6b28-4d85-cef1-dd786146bf15"
      },
      "execution_count": null,
      "outputs": [
        {
          "output_type": "execute_result",
          "data": {
            "text/plain": [
              "True"
            ]
          },
          "metadata": {},
          "execution_count": 54
        }
      ]
    },
    {
      "cell_type": "code",
      "source": [
        "# split : It split the string based on the value you provide. Here the value is comman it can be any thing. The value that we divide based on is calld delimiter\n",
        "\n",
        "x = 'my,name,is,shubham'\n",
        "x.split(',')\n"
      ],
      "metadata": {
        "id": "bEnQni443jQO",
        "colab": {
          "base_uri": "https://localhost:8080/"
        },
        "outputId": "3527ea6a-f6e5-468c-ecc3-7fdf6694cf88"
      },
      "execution_count": 28,
      "outputs": [
        {
          "output_type": "execute_result",
          "data": {
            "text/plain": [
              "['my', 'name', 'is', 'shubham']"
            ]
          },
          "metadata": {},
          "execution_count": 28
        }
      ]
    },
    {
      "cell_type": "code",
      "source": [
        "c = 'my|ame|is|shubham'\n",
        "c.split('|')"
      ],
      "metadata": {
        "colab": {
          "base_uri": "https://localhost:8080/"
        },
        "id": "HQVHt_GH9zdC",
        "outputId": "27df45fb-262f-4929-8d06-72d9c6fee68a"
      },
      "execution_count": 27,
      "outputs": [
        {
          "output_type": "execute_result",
          "data": {
            "text/plain": [
              "['my', 'ame', 'is', 'shubham']"
            ]
          },
          "metadata": {},
          "execution_count": 27
        }
      ]
    },
    {
      "cell_type": "code",
      "source": [
        "# split based on delimiter\n",
        "\n",
        "a = 'hello word, how are you?'\n",
        "words = a.split(' ')\n",
        "\n",
        "words[0] = 'hi'\n",
        "print(words)\n",
        "\n",
        "\n",
        "words[0:3] = 'hi'\n",
        "print(words)\n"
      ],
      "metadata": {
        "colab": {
          "base_uri": "https://localhost:8080/"
        },
        "id": "Is57mM_lAUQF",
        "outputId": "5c161f91-575b-4ede-9201-973c7003bade"
      },
      "execution_count": 42,
      "outputs": [
        {
          "output_type": "stream",
          "name": "stdout",
          "text": [
            "['hi', 'word,', 'how', 'are', 'you?']\n",
            "['h', 'i', 'are', 'you?']\n"
          ]
        }
      ]
    },
    {
      "cell_type": "code",
      "source": [
        "# join\n",
        "sentence = \" \".join(words)\n",
        "print(sentence)"
      ],
      "metadata": {
        "colab": {
          "base_uri": "https://localhost:8080/"
        },
        "id": "GeTW-nnjBF3S",
        "outputId": "ae3af4ee-b8d2-4575-c9a2-7c835b77b0b3"
      },
      "execution_count": 33,
      "outputs": [
        {
          "output_type": "stream",
          "name": "stdout",
          "text": [
            "hi word, how are you?\n"
          ]
        }
      ]
    },
    {
      "cell_type": "markdown",
      "source": [
        "## Interview Q"
      ],
      "metadata": {
        "id": "NsHxFufE6RUF"
      }
    },
    {
      "cell_type": "code",
      "source": [
        "# Given string x below arrange the string like 'ACFGKLbdeh123' like this Caps letter first then small letter and then numbers.\n",
        "x = 'AbCdeFGh123KL' #\n",
        "uppercase = ''\n",
        "lowercase = ''\n",
        "numbers = ''\n",
        "for i in x:\n",
        "    if i.isupper():\n",
        "      uppercase += i\n",
        "    elif i.islower():\n",
        "      lowercase += i\n",
        "    elif i.isnumeric():\n",
        "      numbers += i\n",
        "print(uppercase + lowercase + numbers) # concatnating the string\n",
        "\n"
      ],
      "metadata": {
        "colab": {
          "base_uri": "https://localhost:8080/"
        },
        "id": "ryaLBaII6V_u",
        "outputId": "676fb050-f6fa-468f-9418-fbccd9464ee7"
      },
      "execution_count": 7,
      "outputs": [
        {
          "output_type": "stream",
          "name": "stdout",
          "text": [
            "ACFGKLbdeh123\n"
          ]
        }
      ]
    },
    {
      "cell_type": "code",
      "source": [],
      "metadata": {
        "id": "TxaINv7c6bBP"
      },
      "execution_count": null,
      "outputs": []
    }
  ]
}